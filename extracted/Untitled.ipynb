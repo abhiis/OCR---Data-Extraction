{
 "cells": [
  {
   "cell_type": "code",
   "execution_count": 17,
   "id": "28d17e99",
   "metadata": {},
   "outputs": [],
   "source": [
    "import pytesseract\n",
    "from pytesseract import Output\n",
    "import csv\n",
    "import pandas as pd\n",
    "pytesseract.pytesseract.tesseract_cmd = \"C:\\\\Program Files\\\\Tesseract-OCR\\\\tesseract.exe\"\n",
    "import cv2\n",
    "import numpy as np\n",
    "from matplotlib import pyplot as plt\n",
    "img = cv2.imread('1.JPG')\n",
    "height, width, channel = img.shape\n",
    "\n",
    "def imshow(img, label='default'):\n",
    "    cv2.imshow(label, img)\n",
    "    cv2.waitKey(0)\n",
    "    cv2.destroyAllWindows()"
   ]
  },
  {
   "cell_type": "code",
   "execution_count": 18,
   "id": "b85d51b3",
   "metadata": {},
   "outputs": [],
   "source": [
    "img = cv2.resize(img, (width*2, height*2))"
   ]
  },
  {
   "cell_type": "code",
   "execution_count": 19,
   "id": "d50ff447",
   "metadata": {},
   "outputs": [],
   "source": [
    "imshow(img)"
   ]
  },
  {
   "cell_type": "code",
   "execution_count": 20,
   "id": "238239f6",
   "metadata": {},
   "outputs": [],
   "source": [
    "alpha = 0.9\n",
    "beta = 0\n",
    "adjusted = cv2.convertScaleAbs(img, alpha=alpha, beta=beta)\n",
    "adjusted = cv2.resize(adjusted, (width*2, height * 2))\n",
    "\n",
    "# display the output image\n",
    "imshow(adjusted)\n"
   ]
  },
  {
   "cell_type": "code",
   "execution_count": 21,
   "id": "88638f5f",
   "metadata": {},
   "outputs": [],
   "source": [
    "height, width, channel = img.shape\n",
    "# img = cv2.resize(img, (width*2, height*2))\n",
    "\n",
    "# Convert image to grey scale\n",
    "gray_image = cv2.cvtColor(adjusted, cv2.COLOR_BGR2GRAY)\n",
    "#gray_image = cv2.resize(gray_image, (width*2, height * 2))\n",
    "# Converting grey image to binary image by Thresholding\n",
    "#thresh_img = cv2.threshold(gray_image, 0, 255, cv2.THRESH_BINARY | cv2.THRESH_OTSU)[1]\n",
    "#ret2,th2 = cv2.threshold(img,0,255,cv2.THRESH_BINARY | cv2.THRESH_OTSU)\n",
    "\n",
    "imshow(gray_image)\n"
   ]
  },
  {
   "cell_type": "code",
   "execution_count": 23,
   "id": "b1094f26",
   "metadata": {},
   "outputs": [],
   "source": [
    "thresh_img = cv2.threshold(gray_image, 0, 255, cv2.THRESH_BINARY | cv2.THRESH_OTSU)[1]\n",
    "imshow(thresh_img)\n"
   ]
  },
  {
   "cell_type": "code",
   "execution_count": 24,
   "id": "e121376b",
   "metadata": {},
   "outputs": [],
   "source": [
    "canny = cv2.Canny(img, 0, 150, apertureSize = 5)\n",
    "imshow(canny)"
   ]
  },
  {
   "cell_type": "code",
   "execution_count": 26,
   "id": "eaedd2ed",
   "metadata": {},
   "outputs": [],
   "source": [
    "gray_image = cv2.cvtColor(adjusted, cv2.COLOR_BGR2GRAY)\n",
    "thresh_img = cv2.threshold(gray_image, 0, 255, cv2.THRESH_BINARY+cv2.THRESH_OTSU)[1]\n",
    "\n",
    "imshow(gray_image)\n",
    "kernel = np.ones((1,30), np.uint8)  #for horizontal erosion\n",
    "e_im = cv2.erode(gray_image, kernel, iterations=2)  #performing erosion\n",
    "imshow(e_im)\n",
    "\n",
    "\n",
    "\n",
    "edges = cv2.Canny(e_im,0,150,apertureSize = 5)     #edges\n",
    "\n",
    "minLineLength=333\n",
    "#houghlines for detecting those erosion lines\n",
    "lines = cv2.HoughLinesP(image=edges,rho=0.5,theta=np.pi/180, threshold=222,lines=np.array([]), minLineLength=minLineLength,maxLineGap=7) \n",
    "a,b,c = lines.shape\n",
    "# Draw the lines\n",
    "if lines is not None:\n",
    "    for i in range(0, len(lines)):\n",
    "        l = lines[i][0]\n",
    "        cv2.line(thresh_img, (l[0], l[1]), (l[2], l[3]), (0, 0, 255), 3, cv2.LINE_AA)\n",
    "\n",
    "imshow(thresh_img)\n",
    "\n"
   ]
  },
  {
   "cell_type": "code",
   "execution_count": 31,
   "id": "e13a5f52",
   "metadata": {},
   "outputs": [],
   "source": [
    "kernel = np.ones((500,12), np.uint8)  #for horizontal erosion\n",
    "e_im = cv2.erode(gray_image, kernel, iterations=4)  #performing erosion\n",
    "imshow(e_im)\n",
    "\n",
    "edges = cv2.Canny(e_im,100,0,apertureSize = 3)\n",
    "#imshow(edges)\n",
    "\n",
    "\n",
    "lines = cv2.HoughLinesP(image=edges,rho=0.5,theta=np.pi/180, threshold=222,lines=np.array([]), minLineLength=minLineLength,maxLineGap=7) \n",
    "a,b,c = lines.shape\n",
    "# Draw the lines\n",
    "if lines is not None:\n",
    "    for i in range(0, len(lines)):\n",
    "        l = lines[i][0]\n",
    "        cv2.line(thresh_img, (l[0], l[1]), (l[2], l[3]), (0, 0, 255), 3, cv2.LINE_AA)\n",
    "\n",
    "imshow(thresh_img)"
   ]
  },
  {
   "cell_type": "code",
   "execution_count": null,
   "id": "e53d403f",
   "metadata": {},
   "outputs": [],
   "source": []
  },
  {
   "cell_type": "code",
   "execution_count": 36,
   "id": "c71cd08c",
   "metadata": {},
   "outputs": [],
   "source": [
    "imshow(thresh_img)\n",
    "\n",
    "\n",
    "\n"
   ]
  },
  {
   "cell_type": "code",
   "execution_count": 145,
   "id": "ca7b87dd",
   "metadata": {},
   "outputs": [
    {
     "name": "stdout",
     "output_type": "stream",
     "text": [
      "dict_keys(['level', 'page_num', 'block_num', 'par_num', 'line_num', 'word_num', 'left', 'top', 'width', 'height', 'conf', 'text'])\n"
     ]
    }
   ],
   "source": [
    "\n",
    "\n",
    "output_text = []\n",
    "test = []\n",
    "custom_config = r'-l eng --oem 3 --psm 4 -c tessedit_char_whitelist=\"ABCDEFGHIJKLMNOPQRSTUVWXYZabcdefghijklmnopqrstuvwxyz0123456789-:.$%./@& *\"'\n",
    "\n",
    "\n",
    "# Get all OCR output information from pytesseract\n",
    "ocr_output_details = pytesseract.image_to_data(thresh_img, output_type = Output.DICT, config=custom_config, lang='eng')\n",
    "# Total bounding boxes\n",
    "n_boxes = len(ocr_output_details['text'])\n",
    "\n",
    "# Extract and draw rectangles for all bounding boxes\n",
    "for i in range(n_boxes):\n",
    "    (x, y, w, h) = (ocr_output_details['left'][i], ocr_output_details['top'][i], ocr_output_details['width'][i], ocr_output_details['height'][i])\n",
    "    cv2.rectangle(img, (x, y), (x + w, y + h), (0, 255, 0), 2)\n",
    "\n",
    "# Print OCR Output\n",
    "print(ocr_output_details.keys())\n",
    "\n",
    "# Arrange output text from OCR into the format as per image\n",
    "\n",
    "word_list = []\n",
    "last_word = []\n",
    "\n",
    "for word in ocr_output_details['text']:\n",
    "    # If there is no text in an element\n",
    "    if word != '':\n",
    "        word_list.append(word)\n",
    "        last_word = word\n",
    "    # Append final list of words with valid words\n",
    "    if (last_word != '' and word == '') or (word == ocr_output_details['text'][-1]):\n",
    "        output_text.append(word_list)\n",
    "        test.append(word_list)\n",
    "        word_list = []\n"
   ]
  },
  {
   "cell_type": "code",
   "execution_count": 37,
   "id": "23ea1bfd",
   "metadata": {},
   "outputs": [
    {
     "ename": "NameError",
     "evalue": "name 'output_text' is not defined",
     "output_type": "error",
     "traceback": [
      "\u001b[1;31m---------------------------------------------------------------------------\u001b[0m",
      "\u001b[1;31mNameError\u001b[0m                                 Traceback (most recent call last)",
      "\u001b[1;32m~\\AppData\\Local\\Temp/ipykernel_18708/1259537268.py\u001b[0m in \u001b[0;36m<module>\u001b[1;34m\u001b[0m\n\u001b[0;32m      1\u001b[0m \u001b[0mline_counter\u001b[0m \u001b[1;33m=\u001b[0m \u001b[1;36m0\u001b[0m\u001b[1;33m\u001b[0m\u001b[1;33m\u001b[0m\u001b[0m\n\u001b[1;32m----> 2\u001b[1;33m \u001b[1;32mfor\u001b[0m \u001b[0mline\u001b[0m \u001b[1;32min\u001b[0m \u001b[0moutput_text\u001b[0m\u001b[1;33m:\u001b[0m\u001b[1;33m\u001b[0m\u001b[1;33m\u001b[0m\u001b[0m\n\u001b[0m\u001b[0;32m      3\u001b[0m     \u001b[1;32mif\u001b[0m \u001b[0mline\u001b[0m\u001b[1;33m:\u001b[0m\u001b[1;33m\u001b[0m\u001b[1;33m\u001b[0m\u001b[0m\n\u001b[0;32m      4\u001b[0m         \u001b[0mprint\u001b[0m\u001b[1;33m(\u001b[0m\u001b[0mline\u001b[0m\u001b[1;33m)\u001b[0m\u001b[1;33m\u001b[0m\u001b[1;33m\u001b[0m\u001b[0m\n\u001b[0;32m      5\u001b[0m \u001b[1;33m\u001b[0m\u001b[0m\n",
      "\u001b[1;31mNameError\u001b[0m: name 'output_text' is not defined"
     ]
    }
   ],
   "source": [
    "line_counter = 0\n",
    "for line in output_text:\n",
    "    if line:\n",
    "        print(line)\n",
    "        \n",
    "        for idx, word in enumerate(line):\n",
    "            print(idx,word)\n",
    "            print(line_counter)\n",
    "            #created postions meta\n",
    "            #get check line\n",
    "            if check:\n",
    "                \n",
    "                while not word in check[line_counter]:\n",
    "                    line_counter+=1\n",
    "                else:\n",
    "                    fetched_pos = check[line_counter].find(word)\n",
    "                    if fetched_pos < 0:\n",
    "                        print(f\"Couldn't find word\")\n",
    "                    elif fetched_pos < 17:\n",
    "                        row = 1\n",
    "                    elif fetched_pos < 33:\n",
    "                        row = 2\n",
    "                    elif fetched_pos < 52:\n",
    "                        row = 2\n",
    "                    elif fetched_pos < 67:\n",
    "                        row = 2\n",
    "                    elif fetched_pos < 18:\n",
    "                        row = 2\n",
    "                    print(f\"{word} is in row {row}\")\n",
    "                      \n",
    "    \n",
    "                        \n",
    "                    \n",
    "                    \n",
    "                    \n",
    "                    \n",
    "                    \n",
    "                    \n",
    "            else:\n",
    "                line_counter+= 1\n",
    "            \n",
    "            \n",
    "            break\n",
    "        break"
   ]
  },
  {
   "cell_type": "code",
   "execution_count": 148,
   "id": "5afc0228",
   "metadata": {},
   "outputs": [
    {
     "name": "stdout",
     "output_type": "stream",
     "text": [
      "      Nikhil     Honda Cars      Manager Project    IT              nikhilarora@hondacarindia.com J 9811745280 \n",
      "[0, 1, 2, 3, 4, 5, 6, 7, 8, 9]\n"
     ]
    }
   ],
   "source": [
    "check = list(text.split(\"\\n\"))\n",
    "print(check[1])\n",
    "\n",
    "print(pos)\n"
   ]
  },
  {
   "cell_type": "code",
   "execution_count": 151,
   "id": "9d77ee90",
   "metadata": {},
   "outputs": [
    {
     "data": {
      "text/plain": [
       "['',\n",
       " '      Nikhil     Honda Cars      Manager Project    IT              nikhilarora@hondacarindia.com J 9811745280 ',\n",
       " '  Arora          India Ltd       Manager IT ',\n",
       " '  &  Anil        New  Holland    Manager Deputy     IT              anil.patnaik@cnh.com            9999898176 ',\n",
       " '  Patnaik        Fiat            Manager                                                            / 9109134400 ',\n",
       " '  @&  Mr.        Paytm           vP                 Information     priyank.nag@paytmbank.com       9810566462 ',\n",
       " '  Priyank Nag    Payment Bank                       Technology ',\n",
       " '  @   Pankaj     GFL Ltd.        GM  GM             IT              pshrivastava@gfl.co.in          012 ',\n",
       " '     .                           Information                                                        06149600 ',\n",
       " '  Shrivastava ',\n",
       " '                                 Technology                                                         Ext:966 ',\n",
       " '  &  Aftab       Mahagun         Manager            IT              aahmad@mahagunindia.com         9310638302 ',\n",
       " '  Ahmed          India India     Manager IT ',\n",
       " '                 Ltd ',\n",
       " '  &   JsSodhi    Amity           VP Sr VP &         IT              jssodhi@akcgroup.com            9810845395 ',\n",
       " '                 Education       Group CIO ',\n",
       " '                 Group ',\n",
       " '']"
      ]
     },
     "execution_count": 151,
     "metadata": {},
     "output_type": "execute_result"
    }
   ],
   "source": [
    "check"
   ]
  },
  {
   "cell_type": "code",
   "execution_count": 152,
   "id": "35f5987b",
   "metadata": {},
   "outputs": [
    {
     "name": "stdout",
     "output_type": "stream",
     "text": [
      "      Nikhil     Honda Cars      Manager Project    IT              nikhilarora@hondacarindia.com J 9811745280 \n",
      "[0, 1, 2, 3, 4, 5, 6, 7, 8, 9, 10, 11, 12, 13, 14, 15, 16, 17, 18, 19, 20, 21, 22, 23, 24, 25, 26, 27, 28, 29, 30, 31, 32, 33, 34, 35, 36, 37, 38, 39, 40, 41, 42, 43, 44, 45, 46, 47, 48, 49, 50, 51, 52, 53, 54, 55, 56, 57, 58, 59, 60, 61, 62, 63, 64, 65, 66, 67, 68, 69, 70, 71, 72, 73, 74, 75, 76, 77, 78, 79, 80, 81, 82, 83, 84, 85, 86, 87, 88, 89, 90, 91, 92, 93, 94, 95, 96, 97, 98, 99, 100, 101, 102, 103, 104, 105, 106, 107, 108, 109, 110]\n"
     ]
    }
   ],
   "source": [
    "x = check[1]\n",
    "len(x)\n",
    "\n",
    "print(x)\n",
    "z = [y for y in range(len(x))]\n",
    "print(z)"
   ]
  },
  {
   "cell_type": "code",
   "execution_count": 154,
   "id": "f1ef633e",
   "metadata": {},
   "outputs": [
    {
     "data": {
      "text/plain": [
       "17"
      ]
     },
     "execution_count": 154,
     "metadata": {},
     "output_type": "execute_result"
    }
   ],
   "source": [
    "col1_pos = x.find('Honda')\n",
    "col2_pos = x.find('Manager')\n",
    "col1_pos"
   ]
  },
  {
   "cell_type": "code",
   "execution_count": 156,
   "id": "5a84b8b8",
   "metadata": {},
   "outputs": [
    {
     "data": {
      "text/plain": [
       "33"
      ]
     },
     "execution_count": 156,
     "metadata": {},
     "output_type": "execute_result"
    }
   ],
   "source": [
    "\n",
    "col2_pos"
   ]
  },
  {
   "cell_type": "code",
   "execution_count": 157,
   "id": "21de643c",
   "metadata": {},
   "outputs": [
    {
     "data": {
      "text/plain": [
       "52"
      ]
     },
     "execution_count": 157,
     "metadata": {},
     "output_type": "execute_result"
    }
   ],
   "source": [
    "col3_pos = x.find('IT')\n",
    "col3_pos"
   ]
  },
  {
   "cell_type": "code",
   "execution_count": 158,
   "id": "455f6ae1",
   "metadata": {},
   "outputs": [
    {
     "data": {
      "text/plain": [
       "68"
      ]
     },
     "execution_count": 158,
     "metadata": {},
     "output_type": "execute_result"
    }
   ],
   "source": [
    "col4_pos = x.find('nikh')\n",
    "col4_pos"
   ]
  },
  {
   "cell_type": "code",
   "execution_count": 160,
   "id": "bdc35085",
   "metadata": {},
   "outputs": [
    {
     "data": {
      "text/plain": [
       "100"
      ]
     },
     "execution_count": 160,
     "metadata": {},
     "output_type": "execute_result"
    }
   ],
   "source": [
    "col5_pos = x.find('9811745280')\n",
    "col5_pos"
   ]
  },
  {
   "cell_type": "code",
   "execution_count": 112,
   "id": "9c5d8e60",
   "metadata": {},
   "outputs": [
    {
     "data": {
      "text/plain": [
       "[[],\n",
       " [],\n",
       " [],\n",
       " [],\n",
       " [' Nischal',\n",
       "  'Tv',\n",
       "  'Today',\n",
       "  'Manager',\n",
       "  'Information',\n",
       "  'nischal.maheshwari@intoday.com',\n",
       "  '9818444340'],\n",
       " ['Maheshwari', 'Network', 'Technology'],\n",
       " [],\n",
       " ['@',\n",
       "  'Sandeep',\n",
       "  'Zee',\n",
       "  'Media',\n",
       "  'Manager',\n",
       "  'Information',\n",
       "  'sandeep.mishra@zeemedia.esselgroup.com',\n",
       "  '9811417694'],\n",
       " ['Mishra', 'Limited.', 'Technology'],\n",
       " [],\n",
       " ['@', 'Prashant', 'Manager', 'IT', 'prashant.bhardwaj@flexfilm.com', '0'],\n",
       " ['Bhardwaj', 'Manager', '-', 'IT', '9873912930'],\n",
       " ['Ravi',\n",
       "  'Uflex',\n",
       "  'GM',\n",
       "  'Sr',\n",
       "  'GM',\n",
       "  'IT',\n",
       "  'ravi.ramakrishnan@flexfilm.com',\n",
       "  '9891001443'],\n",
       " ['Ramakrishnan', 'Global-IT']]"
      ]
     },
     "execution_count": 112,
     "metadata": {},
     "output_type": "execute_result"
    }
   ],
   "source": [
    "check_line = [x for x in output_text1]\n",
    "check_line"
   ]
  },
  {
   "cell_type": "code",
   "execution_count": 73,
   "id": "cfbb1279",
   "metadata": {
    "scrolled": true
   },
   "outputs": [
    {
     "data": {
      "text/plain": [
       "[[],\n",
       " [],\n",
       " [],\n",
       " [],\n",
       " ['Tv',\n",
       "  'Today',\n",
       "  'Manager',\n",
       "  'Information',\n",
       "  'nischal.maheshwari@intoday.com',\n",
       "  '9818444340'],\n",
       " ['Network', 'Technology'],\n",
       " [],\n",
       " [],\n",
       " [' Nischal'],\n",
       " ['Maheshwari'],\n",
       " [],\n",
       " [],\n",
       " ['@',\n",
       "  'Sandeep',\n",
       "  'Zee',\n",
       "  'Media',\n",
       "  'Manager',\n",
       "  'Information',\n",
       "  'sandeep.mishra@zeemedia.esselgroup.com',\n",
       "  '9811417694'],\n",
       " [],\n",
       " [],\n",
       " ['Mishra', 'Limited.', 'Technology'],\n",
       " [],\n",
       " [],\n",
       " ['Amit', 'Roy', 'GM', 'DGN-IT', 'royamitak@rediffmail.com', '9971747321'],\n",
       " [],\n",
       " [],\n",
       " ['@', 'Prashant', 'Manager', 'prashant.bhardwaj@flexfilm.com', '0'],\n",
       " ['Manager', '-', 'IT', '9873912930'],\n",
       " [],\n",
       " [],\n",
       " ['Bhardwaj'],\n",
       " [],\n",
       " [],\n",
       " ['Ravi', 'GM', 'Sr', 'GM', 'ravi.ramakrishnan@flexfilm.com', '9891001443'],\n",
       " ['Ramakrishnan', 'Global-IT'],\n",
       " [],\n",
       " [],\n",
       " []]"
      ]
     },
     "execution_count": 73,
     "metadata": {},
     "output_type": "execute_result"
    }
   ],
   "source": [
    "output_text"
   ]
  },
  {
   "cell_type": "code",
   "execution_count": 72,
   "id": "6702114a",
   "metadata": {
    "scrolled": true
   },
   "outputs": [
    {
     "name": "stdout",
     "output_type": "stream",
     "text": [
      "[]\n",
      "[]\n",
      "[]\n",
      "[]\n",
      "[' Nischal', 'Tv', 'Today', 'Manager', 'Information', 'nischal.maheshwari@intoday.com', '9818444340']\n",
      "['Maheshwari', 'Network', 'Technology']\n",
      "[]\n",
      "['@', 'Sandeep', 'Zee', 'Media', 'Manager', 'Information', 'sandeep.mishra@zeemedia.esselgroup.com', '9811417694']\n",
      "['Mishra', 'Limited.', 'Technology']\n",
      "[]\n",
      "['@', 'Prashant', 'Manager', 'IT', 'prashant.bhardwaj@flexfilm.com', '0']\n",
      "['Bhardwaj', 'Manager', '-', 'IT', '9873912930']\n",
      "['Ravi', 'Uflex', 'GM', 'Sr', 'GM', 'IT', 'ravi.ramakrishnan@flexfilm.com', '9891001443']\n",
      "['Ramakrishnan', 'Global-IT']\n"
     ]
    }
   ],
   "source": [
    "#--psm 6\n",
    "for pos, check_line in enumerate(output_text1):\n",
    "    print(check_line)\n",
    "    for idx\n"
   ]
  },
  {
   "cell_type": "code",
   "execution_count": 70,
   "id": "6505419d",
   "metadata": {},
   "outputs": [
    {
     "data": {
      "text/plain": [
       "[]"
      ]
     },
     "execution_count": 70,
     "metadata": {},
     "output_type": "execute_result"
    }
   ],
   "source": [
    "check_line"
   ]
  },
  {
   "cell_type": "code",
   "execution_count": 146,
   "id": "8432abe5",
   "metadata": {
    "scrolled": false
   },
   "outputs": [
    {
     "name": "stdout",
     "output_type": "stream",
     "text": [
      "\n",
      "      Nikhil     Honda Cars      Manager Project    IT              nikhilarora@hondacarindia.com J 9811745280 \n",
      "  Arora          India Ltd       Manager IT \n",
      "  &  Anil        New  Holland    Manager Deputy     IT              anil.patnaik@cnh.com            9999898176 \n",
      "  Patnaik        Fiat            Manager                                                            / 9109134400 \n",
      "  @&  Mr.        Paytm           vP                 Information     priyank.nag@paytmbank.com       9810566462 \n",
      "  Priyank Nag    Payment Bank                       Technology \n",
      "  @   Pankaj     GFL Ltd.        GM  GM             IT              pshrivastava@gfl.co.in          012 \n",
      "     .                           Information                                                        06149600 \n",
      "  Shrivastava \n",
      "                                 Technology                                                         Ext:966 \n",
      "  &  Aftab       Mahagun         Manager            IT              aahmad@mahagunindia.com         9310638302 \n",
      "  Ahmed          India India     Manager IT \n",
      "                 Ltd \n",
      "  &   JsSodhi    Amity           VP Sr VP &         IT              jssodhi@akcgroup.com            9810845395 \n",
      "                 Education       Group CIO \n",
      "                 Group \n",
      "\n"
     ]
    }
   ],
   "source": [
    "\n",
    "\n",
    "\n",
    "\n",
    "\n",
    "custom_config = r'-l eng --oem 3 --psm 6 -c tessedit_char_whitelist=\"ABCDEFGHIJKLMNOPQRSTUVWXYZabcdefghijklmnopqrstuvwxyz0123456789-:.$%./@& *\"'\n",
    "d = pytesseract.image_to_data(thresh_img, config=custom_config, output_type=Output.DICT)\n",
    "df = pd.DataFrame(d)\n",
    "\n",
    "# clean up blanks\n",
    "df1 = df[(df.conf != '-1') & (df.text != ' ') & (df.text != '')]\n",
    "pd.set_option('display.max_rows', None)\n",
    "pd.set_option('display.max_columns', None)\n",
    "\n",
    "# sort blocks vertically\n",
    "sorted_blocks = df1.groupby('block_num').first().sort_values('top').index.tolist()\n",
    "for block in sorted_blocks:\n",
    "    curr = df1[df1['block_num'] == block]\n",
    "    sel = curr[curr.text.str.len() > 3]\n",
    "    # sel = curr\n",
    "    char_w = (sel.width / sel.text.str.len()).mean()\n",
    "    prev_par, prev_line, prev_left = 0, 0, 0\n",
    "    text = ''\n",
    "    for ix, ln in curr.iterrows():\n",
    "        \n",
    "        # add new line when necessary\n",
    "        if prev_par != ln['par_num']:\n",
    "            text += '\\n'\n",
    "            prev_par = ln['par_num']\n",
    "            prev_line = ln['line_num']\n",
    "            prev_left = 0\n",
    "        elif prev_line != ln['line_num']:\n",
    "            text += '\\n'\n",
    "            prev_line = ln['line_num']\n",
    "            prev_left = 0\n",
    "\n",
    "        added = 0  # num of spaces that should be added\n",
    "        if ln['left'] / char_w > prev_left + 1:\n",
    "            added = int((ln['left']) / char_w) - prev_left\n",
    "            text += ' ' * added\n",
    "        text += ln['text'] + ' '\n",
    "        prev_left += len(ln['text']) + added + 1\n",
    "        \n",
    "    text += '\\n'\n",
    "    print(text)\n",
    "   "
   ]
  },
  {
   "cell_type": "code",
   "execution_count": 75,
   "id": "17f0c7e4",
   "metadata": {
    "scrolled": false
   },
   "outputs": [
    {
     "data": {
      "text/plain": [
       "'\\n   Nischal       Tv Today        Manager            Information    nischal.maheshwari@intoday.com           9818444340 \\n  Maheshwari     Network                            Technology \\n  @  Sandeep     Zee Media       Manager            Information    sandeep.mishra@zeemedia.esselgroup.com   9811417694 \\n  Mishra         Limited.                           Technology \\n  @  Prashant                    Manager            IT             prashant.bhardwaj@flexfilm.com           0 \\n  Bhardwaj                       Manager - IT                                                               9873912930 \\n  Ravi           Uflex           GM  Sr GM          IT             ravi.ramakrishnan@flexfilm.com           9891001443 \\n  Ramakrishnan                   Global-IT \\n'"
      ]
     },
     "execution_count": 75,
     "metadata": {},
     "output_type": "execute_result"
    }
   ],
   "source": [
    "text"
   ]
  },
  {
   "cell_type": "code",
   "execution_count": 80,
   "id": "1bb2a18c",
   "metadata": {},
   "outputs": [
    {
     "data": {
      "text/plain": [
       "'   Nischal       Tv Today        Manager            Information    nischal.maheshwari@intoday.com           9818444340 '"
      ]
     },
     "execution_count": 80,
     "metadata": {},
     "output_type": "execute_result"
    }
   ],
   "source": [
    "check = list(text.split(\"\\n\"))\n",
    "check[1]"
   ]
  },
  {
   "cell_type": "code",
   "execution_count": 166,
   "id": "e6e9f110",
   "metadata": {},
   "outputs": [
    {
     "name": "stdout",
     "output_type": "stream",
     "text": [
      "[[ 206 1049  206    0]]\n",
      "[[1388 1046 1388    0]]\n",
      "[[ 226 1049  226    0]]\n",
      "[[ 446 1049  446    0]]\n",
      "[[ 946 1049  946    0]]\n",
      "[[ 912 1049  912    0]]\n",
      "[[ 703 1049  703    0]]\n",
      "[[  13 1049   13    0]]\n",
      "[[ 452 1049  452    0]]\n",
      "[[ 722 1049  722    0]]\n",
      "[[1393 1049 1393    0]]\n"
     ]
    }
   ],
   "source": []
  }
 ],
 "metadata": {
  "kernelspec": {
   "display_name": "Python 3 (ipykernel)",
   "language": "python",
   "name": "python3"
  },
  "language_info": {
   "codemirror_mode": {
    "name": "ipython",
    "version": 3
   },
   "file_extension": ".py",
   "mimetype": "text/x-python",
   "name": "python",
   "nbconvert_exporter": "python",
   "pygments_lexer": "ipython3",
   "version": "3.9.5"
  }
 },
 "nbformat": 4,
 "nbformat_minor": 5
}
